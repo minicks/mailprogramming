{
  "nbformat": 4,
  "nbformat_minor": 0,
  "metadata": {
    "colab": {
      "name": "test11_16.ipynb",
      "provenance": [],
      "authorship_tag": "ABX9TyPCIMPFtg/dt9E01jjI5ioh",
      "include_colab_link": true
    },
    "kernelspec": {
      "name": "python3",
      "display_name": "Python 3"
    }
  },
  "cells": [
    {
      "cell_type": "markdown",
      "metadata": {
        "id": "view-in-github",
        "colab_type": "text"
      },
      "source": [
        "<a href=\"https://colab.research.google.com/github/minicks/mailprogramming/blob/master/test11_16.ipynb\" target=\"_parent\"><img src=\"https://colab.research.google.com/assets/colab-badge.svg\" alt=\"Open In Colab\"/></a>"
      ]
    },
    {
      "cell_type": "code",
      "metadata": {
        "id": "4ti5AnSmyQa5"
      },
      "source": [
        "def sol(n):\n",
        "  c = 0\n",
        "  answer = 0\n",
        "  count = 0\n",
        "  while n != 0:\n",
        "    b = n % 2\n",
        "    n = n // 2\n",
        "    if b == 1:\n",
        "      count += 1\n",
        "    answer = answer + b*(10**c)\n",
        "    c += 1\n",
        "\n",
        "  print(count)\n"
      ],
      "execution_count": 28,
      "outputs": []
    },
    {
      "cell_type": "code",
      "metadata": {
        "id": "hKJ6P7Js0aoR",
        "outputId": "db9d1a15-4e22-40fc-e219-df46a4ecb6ee",
        "colab": {
          "base_uri": "https://localhost:8080/"
        }
      },
      "source": [
        "sol(16)"
      ],
      "execution_count": 32,
      "outputs": [
        {
          "output_type": "stream",
          "text": [
            "1\n"
          ],
          "name": "stdout"
        }
      ]
    }
  ]
}