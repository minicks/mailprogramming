{
  "nbformat": 4,
  "nbformat_minor": 0,
  "metadata": {
    "colab": {
      "name": "test7.ipynb",
      "provenance": [],
      "authorship_tag": "ABX9TyMUtJGJ3kumVU6t4UAnXlwB",
      "include_colab_link": true
    },
    "kernelspec": {
      "name": "python3",
      "display_name": "Python 3"
    }
  },
  "cells": [
    {
      "cell_type": "markdown",
      "metadata": {
        "id": "view-in-github",
        "colab_type": "text"
      },
      "source": [
        "<a href=\"https://colab.research.google.com/github/minicks/mailprogramming/blob/master/test7.ipynb\" target=\"_parent\"><img src=\"https://colab.research.google.com/assets/colab-badge.svg\" alt=\"Open In Colab\"/></a>"
      ]
    },
    {
      "cell_type": "code",
      "metadata": {
        "id": "EnqA-NKMexmU",
        "colab_type": "code",
        "colab": {
          "base_uri": "https://localhost:8080/",
          "height": 35
        },
        "outputId": "668dadbb-b3ca-41c0-98d3-b5d67fb39de0"
      },
      "source": [
        "list = [\"dog\", \"dogs\", \"doge\"]\n",
        "a = list[0]\n",
        "a"
      ],
      "execution_count": 22,
      "outputs": [
        {
          "output_type": "execute_result",
          "data": {
            "application/vnd.google.colaboratory.intrinsic+json": {
              "type": "string"
            },
            "text/plain": [
              "'dog'"
            ]
          },
          "metadata": {
            "tags": []
          },
          "execution_count": 22
        }
      ]
    },
    {
      "cell_type": "code",
      "metadata": {
        "id": "6bfpE1t4g1W4",
        "colab_type": "code",
        "colab": {
          "base_uri": "https://localhost:8080/",
          "height": 53
        },
        "outputId": "9c14c068-dacf-47dc-e1cd-b0d9bfb778a1"
      },
      "source": [
        "print(type(a))\n",
        "a=a[:-1]\n",
        "list[-1]"
      ],
      "execution_count": 12,
      "outputs": [
        {
          "output_type": "stream",
          "text": [
            "<class 'str'>\n"
          ],
          "name": "stdout"
        },
        {
          "output_type": "execute_result",
          "data": {
            "application/vnd.google.colaboratory.intrinsic+json": {
              "type": "string"
            },
            "text/plain": [
              "'ape'"
            ]
          },
          "metadata": {
            "tags": []
          },
          "execution_count": 12
        }
      ]
    },
    {
      "cell_type": "code",
      "metadata": {
        "id": "7GetupKCgGqJ",
        "colab_type": "code",
        "colab": {}
      },
      "source": [
        "def sol(list):\n",
        "  a=list[0]\n",
        "  def find(a):\n",
        "    for i in list:\n",
        "      if a in i:\n",
        "        if i == list[-1]:\n",
        "          print(len(a),'//',a)\n",
        "          break\n",
        "        continue\n",
        "      else:\n",
        "        a=a[:-1]\n",
        "        find(a)\n",
        "        break\n",
        "  find(a)"
      ],
      "execution_count": 17,
      "outputs": []
    },
    {
      "cell_type": "code",
      "metadata": {
        "id": "mmk-HRaejJeZ",
        "colab_type": "code",
        "colab": {
          "base_uri": "https://localhost:8080/",
          "height": 35
        },
        "outputId": "7ac649d3-c132-4eb2-b336-597b7a597011"
      },
      "source": [
        "sol(list)"
      ],
      "execution_count": 23,
      "outputs": [
        {
          "output_type": "stream",
          "text": [
            "3 // dog\n"
          ],
          "name": "stdout"
        }
      ]
    }
  ]
}