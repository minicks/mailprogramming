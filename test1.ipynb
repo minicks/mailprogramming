{
  "nbformat": 4,
  "nbformat_minor": 0,
  "metadata": {
    "colab": {
      "name": "Untitled27.ipynb",
      "provenance": [],
      "collapsed_sections": [],
      "authorship_tag": "ABX9TyPSik25iprC5kYmkkjoYAYy",
      "include_colab_link": true
    },
    "kernelspec": {
      "name": "python3",
      "display_name": "Python 3"
    }
  },
  "cells": [
    {
      "cell_type": "markdown",
      "metadata": {
        "id": "view-in-github",
        "colab_type": "text"
      },
      "source": [
        "<a href=\"https://colab.research.google.com/github/minicks/mailprogramming/blob/master/test1.ipynb\" target=\"_parent\"><img src=\"https://colab.research.google.com/assets/colab-badge.svg\" alt=\"Open In Colab\"/></a>"
      ]
    },
    {
      "cell_type": "markdown",
      "metadata": {
        "id": "QzlFJ3FgckjH",
        "colab_type": "text"
      },
      "source": [
        "코딩 테스트 # 1"
      ]
    },
    {
      "cell_type": "code",
      "metadata": {
        "id": "lCS6OTehci5b",
        "colab_type": "code",
        "colab": {}
      },
      "source": [
        "def solution(arr):\n",
        "  maxSum = arr[0]\n",
        "  currentSum = arr[0]\n",
        "  for i in range(1,len(arr)):\n",
        "    currentSum = max(currentSum + arr[i], arr[i])\n",
        "    maxSum = max(currentSum, maxSum)\n",
        "  return maxSum\n"
      ],
      "execution_count": 0,
      "outputs": []
    },
    {
      "cell_type": "code",
      "metadata": {
        "id": "sbT0qOYic3jw",
        "colab_type": "code",
        "outputId": "4a6207a1-0ec9-459f-d12a-7dff683dbdfe",
        "colab": {
          "base_uri": "https://localhost:8080/",
          "height": 35
        }
      },
      "source": [
        "solution([-1, 3, -1, 5])"
      ],
      "execution_count": 0,
      "outputs": [
        {
          "output_type": "execute_result",
          "data": {
            "text/plain": [
              "7"
            ]
          },
          "metadata": {
            "tags": []
          },
          "execution_count": 13
        }
      ]
    },
    {
      "cell_type": "code",
      "metadata": {
        "id": "HsRG_Rh5eC9f",
        "colab_type": "code",
        "outputId": "2e331ebe-a8d9-4aa9-ed7e-fb250bc77be2",
        "colab": {
          "base_uri": "https://localhost:8080/",
          "height": 35
        }
      },
      "source": [
        "solution([-5, -3, -1])"
      ],
      "execution_count": 0,
      "outputs": [
        {
          "output_type": "execute_result",
          "data": {
            "text/plain": [
              "-1"
            ]
          },
          "metadata": {
            "tags": []
          },
          "execution_count": 14
        }
      ]
    },
    {
      "cell_type": "code",
      "metadata": {
        "id": "TM4bxX1qeFbV",
        "colab_type": "code",
        "outputId": "deb6df16-a137-4583-8436-dae3dcf40117",
        "colab": {
          "base_uri": "https://localhost:8080/",
          "height": 35
        }
      },
      "source": [
        "solution([2, 4, -2, -3, 8])"
      ],
      "execution_count": 0,
      "outputs": [
        {
          "output_type": "execute_result",
          "data": {
            "text/plain": [
              "9"
            ]
          },
          "metadata": {
            "tags": []
          },
          "execution_count": 15
        }
      ]
    },
    {
      "cell_type": "code",
      "metadata": {
        "id": "P1mi6MV3eY0W",
        "colab_type": "code",
        "outputId": "0b2653f6-2097-4193-b935-9ce5e30cd2dc",
        "colab": {
          "base_uri": "https://localhost:8080/",
          "height": 89
        }
      },
      "source": [
        "for i in range(1,5):\n",
        "  print(i)"
      ],
      "execution_count": 0,
      "outputs": [
        {
          "output_type": "stream",
          "text": [
            "1\n",
            "2\n",
            "3\n",
            "4\n"
          ],
          "name": "stdout"
        }
      ]
    }
  ]
}