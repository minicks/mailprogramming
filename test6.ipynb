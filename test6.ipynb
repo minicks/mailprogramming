{
  "nbformat": 4,
  "nbformat_minor": 0,
  "metadata": {
    "colab": {
      "name": "test6.ipynb",
      "provenance": [],
      "authorship_tag": "ABX9TyPq9fJObcXE9G2NlkH2SSfE",
      "include_colab_link": true
    },
    "kernelspec": {
      "name": "python3",
      "display_name": "Python 3"
    }
  },
  "cells": [
    {
      "cell_type": "markdown",
      "metadata": {
        "id": "view-in-github",
        "colab_type": "text"
      },
      "source": [
        "<a href=\"https://colab.research.google.com/github/minicks/mailprogramming/blob/master/test6.ipynb\" target=\"_parent\"><img src=\"https://colab.research.google.com/assets/colab-badge.svg\" alt=\"Open In Colab\"/></a>"
      ]
    },
    {
      "cell_type": "code",
      "metadata": {
        "id": "o7RcA7s61T0y",
        "colab_type": "code",
        "colab": {}
      },
      "source": [
        "def sol(list):\n",
        "  list.split()\n",
        "  list1 = \"abc 123 apple\"\n",
        "  list1.split()\n",
        "  result=''\n",
        "  count=0\n",
        "  for i in list1.split():\n",
        "    count += 1\n",
        "    result = result + i[::-1]\n",
        "    if count != len(list.split()):\n",
        "      result = result + ' '\n",
        "  print(result)"
      ],
      "execution_count": 0,
      "outputs": []
    },
    {
      "cell_type": "code",
      "metadata": {
        "id": "vzdzy35X1fEH",
        "colab_type": "code",
        "colab": {
          "base_uri": "https://localhost:8080/",
          "height": 35
        },
        "outputId": "7462c52d-b4b1-4024-87c4-2287020d0aed"
      },
      "source": [
        "sol(\"abc 123 apple\")\n",
        "\n"
      ],
      "execution_count": 20,
      "outputs": [
        {
          "output_type": "stream",
          "text": [
            "cba 321 elppa\n"
          ],
          "name": "stdout"
        }
      ]
    }
  ]
}