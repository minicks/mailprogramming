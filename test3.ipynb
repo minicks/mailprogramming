{
  "nbformat": 4,
  "nbformat_minor": 0,
  "metadata": {
    "colab": {
      "name": "Untitled28.ipynb",
      "provenance": [],
      "authorship_tag": "ABX9TyNIsoDikTc3ZfStsSsmkshJ",
      "include_colab_link": true
    },
    "kernelspec": {
      "name": "python3",
      "display_name": "Python 3"
    }
  },
  "cells": [
    {
      "cell_type": "markdown",
      "metadata": {
        "id": "view-in-github",
        "colab_type": "text"
      },
      "source": [
        "<a href=\"https://colab.research.google.com/github/minicks/mailprogramming/blob/master/test3.ipynb\" target=\"_parent\"><img src=\"https://colab.research.google.com/assets/colab-badge.svg\" alt=\"Open In Colab\"/></a>"
      ]
    },
    {
      "cell_type": "markdown",
      "metadata": {
        "id": "FNf7OVcwnv3Z",
        "colab_type": "text"
      },
      "source": [
        "코딩테스트 # 3"
      ]
    },
    {
      "cell_type": "code",
      "metadata": {
        "id": "wG4lIKBanqOG",
        "colab_type": "code",
        "colab": {}
      },
      "source": [
        "def sol(n):\n",
        "  ans=[]\n",
        "  open=0\n",
        "  close=0\n",
        "  list=''\n",
        "  def result(ans,list,open,close,n):\n",
        "    if len(list) == n*2:\n",
        "      ans.append(list)\n",
        "      return\n",
        "    if open < n:\n",
        "      result(ans,list+'(',open + 1,close,n)\n",
        "    if close < open:\n",
        "      result(ans,list+')',open ,close + 1,n)\n",
        "  result(ans,list,open,close,n)\n",
        "  print(ans)\n",
        "  "
      ],
      "execution_count": 0,
      "outputs": []
    },
    {
      "cell_type": "code",
      "metadata": {
        "id": "gf6Hyumqrmxi",
        "colab_type": "code",
        "colab": {
          "base_uri": "https://localhost:8080/",
          "height": 35
        },
        "outputId": "8019c6a0-fd5e-4854-a14b-a00c55a06104"
      },
      "source": [
        "sol(2)"
      ],
      "execution_count": 36,
      "outputs": [
        {
          "output_type": "stream",
          "text": [
            "['(())', '()()']\n"
          ],
          "name": "stdout"
        }
      ]
    }
  ]
}