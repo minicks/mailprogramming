{
  "nbformat": 4,
  "nbformat_minor": 0,
  "metadata": {
    "colab": {
      "name": "test5.ipynb",
      "provenance": [],
      "authorship_tag": "ABX9TyPIQMM2SAx+eYRgaAVgRr5r",
      "include_colab_link": true
    },
    "kernelspec": {
      "name": "python3",
      "display_name": "Python 3"
    }
  },
  "cells": [
    {
      "cell_type": "markdown",
      "metadata": {
        "id": "view-in-github",
        "colab_type": "text"
      },
      "source": [
        "<a href=\"https://colab.research.google.com/github/minicks/mailprogramming/blob/master/test5.ipynb\" target=\"_parent\"><img src=\"https://colab.research.google.com/assets/colab-badge.svg\" alt=\"Open In Colab\"/></a>"
      ]
    },
    {
      "cell_type": "code",
      "metadata": {
        "id": "D4uLiSAzjG_5",
        "colab_type": "code",
        "colab": {}
      },
      "source": [
        "def sol(list,target):\n",
        "  out = []\n",
        "  for i in range(len(list)):\n",
        "    if target - list[i] in list:\n",
        "      out.append(i)\n",
        "      out.append(list.index(target - list[i]))\n",
        "      break\n",
        "  print(out)"
      ],
      "execution_count": 0,
      "outputs": []
    },
    {
      "cell_type": "code",
      "metadata": {
        "id": "a_by-aS1lwdu",
        "colab_type": "code",
        "colab": {
          "base_uri": "https://localhost:8080/",
          "height": 35
        },
        "outputId": "c341ed6f-1db7-4441-bd45-a8ee9e5f323c"
      },
      "source": [
        "sol([0,2,6,8,9],8)"
      ],
      "execution_count": 5,
      "outputs": [
        {
          "output_type": "stream",
          "text": [
            "[0, 3]\n"
          ],
          "name": "stdout"
        }
      ]
    }
  ]
}