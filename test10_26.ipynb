{
  "nbformat": 4,
  "nbformat_minor": 0,
  "metadata": {
    "colab": {
      "name": "test10_26.ipynb",
      "provenance": [],
      "authorship_tag": "ABX9TyPrSR3ddGp3fDr7JpqWS1Xg",
      "include_colab_link": true
    },
    "kernelspec": {
      "name": "python3",
      "display_name": "Python 3"
    }
  },
  "cells": [
    {
      "cell_type": "markdown",
      "metadata": {
        "id": "view-in-github",
        "colab_type": "text"
      },
      "source": [
        "<a href=\"https://colab.research.google.com/github/minicks/mailprogramming/blob/master/test10_26.ipynb\" target=\"_parent\"><img src=\"https://colab.research.google.com/assets/colab-badge.svg\" alt=\"Open In Colab\"/></a>"
      ]
    },
    {
      "cell_type": "markdown",
      "metadata": {
        "id": "uayh5OgBTh40"
      },
      "source": [
        "\"./\"과 \"../\" 이 포함된 파일 경로를 \"./\"과 \"../\"이 없는 유닉스 파일 경로로 바꾸시오.\n",
        "\n",
        "\"./\"는 현재의 위치를 뜻하고, \"../\"는 상위 디렉토리를 뜻합니다.\n",
        "\n",
        "\n",
        "\n",
        "Given a file path containing \"./\" and \"../\", convert the path to a unix standard file path that does not contain \"./\" and \"../\".\n",
        "\n",
        "\n",
        "\n",
        "input: \"/usr/bin/../\"\n",
        "\n",
        "output: \"/usr/\"\n",
        "\n",
        "\n",
        "\n",
        "input: \"/usr/./bin/./test/../\"\n",
        "\n",
        "output: \"/usr/bin/\""
      ]
    },
    {
      "cell_type": "code",
      "metadata": {
        "id": "2VUGKPGpMrqA",
        "outputId": "6085d535-7a31-425a-854c-74244c4fa297",
        "colab": {
          "base_uri": "https://localhost:8080/",
          "height": 305
        }
      },
      "source": [
        "def sol(inp):\n",
        "    inp = inp.replace('../','')\n",
        "\n",
        "    while './' in inp:\n",
        "      print(inp)\n",
        "      print(2)\n",
        "      inp = inp.replace('./','')\n",
        "\n",
        "    count = 0\n",
        "    txt = 0\n",
        "    while count!=2:\n",
        "      print(inp)\n",
        "      print(1)\n",
        "      txt += 1\n",
        "      if inp[-1*txt] == '/':\n",
        "        count += 1\n",
        "\n",
        "    print(-1*txt+1)\n",
        "\n",
        "    inp = inp[:-1*txt+1]\n",
        "\n",
        "    print(inp)\n",
        "\n",
        "sol(input2)\n"
      ],
      "execution_count": 38,
      "outputs": [
        {
          "output_type": "stream",
          "text": [
            "/usr/./bin/./test/\n",
            "2\n",
            "/usr/bin/test/\n",
            "1\n",
            "/usr/bin/test/\n",
            "1\n",
            "/usr/bin/test/\n",
            "1\n",
            "/usr/bin/test/\n",
            "1\n",
            "/usr/bin/test/\n",
            "1\n",
            "/usr/bin/test/\n",
            "1\n",
            "-5\n",
            "/usr/bin/\n"
          ],
          "name": "stdout"
        }
      ]
    },
    {
      "cell_type": "code",
      "metadata": {
        "id": "essbyFsKPAfb"
      },
      "source": [
        "input = \"/usr/bin/../\"\n",
        "input2 = \"/usr/./bin/./test/../\""
      ],
      "execution_count": 37,
      "outputs": []
    },
    {
      "cell_type": "code",
      "metadata": {
        "id": "gvvk5izbQnF0",
        "outputId": "cb0d0fad-a825-452e-fbfb-1a989f05bac5",
        "colab": {
          "base_uri": "https://localhost:8080/",
          "height": 35
        }
      },
      "source": [
        "input.replace('../','')"
      ],
      "execution_count": 16,
      "outputs": [
        {
          "output_type": "execute_result",
          "data": {
            "application/vnd.google.colaboratory.intrinsic+json": {
              "type": "string"
            },
            "text/plain": [
              "'/usr/bin/'"
            ]
          },
          "metadata": {
            "tags": []
          },
          "execution_count": 16
        }
      ]
    },
    {
      "cell_type": "code",
      "metadata": {
        "id": "eSWJ6-71Qz68",
        "outputId": "828427c7-9343-4409-ffbe-5e9cbb1b4cfb",
        "colab": {
          "base_uri": "https://localhost:8080/",
          "height": 35
        }
      },
      "source": [
        "input"
      ],
      "execution_count": 17,
      "outputs": [
        {
          "output_type": "execute_result",
          "data": {
            "application/vnd.google.colaboratory.intrinsic+json": {
              "type": "string"
            },
            "text/plain": [
              "'/usr/bin/../'"
            ]
          },
          "metadata": {
            "tags": []
          },
          "execution_count": 17
        }
      ]
    },
    {
      "cell_type": "code",
      "metadata": {
        "id": "vBfSXNHUQHec",
        "outputId": "02eacfc0-9115-448f-bf9b-1fb658fa018e",
        "colab": {
          "base_uri": "https://localhost:8080/",
          "height": 161
        }
      },
      "source": [
        "sol(input)"
      ],
      "execution_count": 24,
      "outputs": [
        {
          "output_type": "stream",
          "text": [
            "/usr/bin/\n",
            "/usr/bin/\n",
            "/usr/bin/\n",
            "/usr/bin/\n",
            "/usr/bin/\n",
            "/usr/bin/\n",
            "/usr/bin/\n",
            "r/bin/\n"
          ],
          "name": "stdout"
        }
      ]
    },
    {
      "cell_type": "code",
      "metadata": {
        "id": "qrKGd0UuPEwh",
        "outputId": "2f696e38-b69f-4e16-f86f-64c5fa3c1330",
        "colab": {
          "base_uri": "https://localhost:8080/",
          "height": 35
        }
      },
      "source": [
        "input[-2:]"
      ],
      "execution_count": 4,
      "outputs": [
        {
          "output_type": "execute_result",
          "data": {
            "application/vnd.google.colaboratory.intrinsic+json": {
              "type": "string"
            },
            "text/plain": [
              "'./'"
            ]
          },
          "metadata": {
            "tags": []
          },
          "execution_count": 4
        }
      ]
    }
  ]
}