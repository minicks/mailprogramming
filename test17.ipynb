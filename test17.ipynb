{
  "nbformat": 4,
  "nbformat_minor": 0,
  "metadata": {
    "colab": {
      "name": "Untitled31.ipynb",
      "provenance": [],
      "authorship_tag": "ABX9TyNyEayd6v5lstnHP0s1rlPQ",
      "include_colab_link": true
    },
    "kernelspec": {
      "name": "python3",
      "display_name": "Python 3"
    }
  },
  "cells": [
    {
      "cell_type": "markdown",
      "metadata": {
        "id": "view-in-github",
        "colab_type": "text"
      },
      "source": [
        "<a href=\"https://colab.research.google.com/github/minicks/mailprogramming/blob/master/test%2017.ipynb\" target=\"_parent\"><img src=\"https://colab.research.google.com/assets/colab-badge.svg\" alt=\"Open In Colab\"/></a>"
      ]
    },
    {
      "cell_type": "code",
      "metadata": {
        "id": "5R-YMDqXuZna",
        "colab_type": "code",
        "colab": {
          "base_uri": "https://localhost:8080/",
          "height": 53
        },
        "outputId": "d4c3fd40-3668-4b02-db3d-ed4533c21a09"
      },
      "source": [
        "input()"
      ],
      "execution_count": 2,
      "outputs": [
        {
          "output_type": "stream",
          "text": [
            "asd\n"
          ],
          "name": "stdout"
        },
        {
          "output_type": "execute_result",
          "data": {
            "application/vnd.google.colaboratory.intrinsic+json": {
              "type": "string"
            },
            "text/plain": [
              "'asd'"
            ]
          },
          "metadata": {
            "tags": []
          },
          "execution_count": 2
        }
      ]
    },
    {
      "cell_type": "code",
      "metadata": {
        "id": "8Rd5Z0eOunf6",
        "colab_type": "code",
        "colab": {}
      },
      "source": [
        "input = [[1, 0, 0, 1, 1, 0],[1, 0, 0, 1, 0, 0],[1, 1, 1, 1, 0, 0],[1, 0, 0, 0, 0, 1],[1, 1, 1, 1, 1, 1]]"
      ],
      "execution_count": 17,
      "outputs": []
    },
    {
      "cell_type": "code",
      "metadata": {
        "id": "zsfk4mqNvkzE",
        "colab_type": "code",
        "colab": {}
      },
      "source": [
        "start = input()\n",
        "finish = input()"
      ],
      "execution_count": null,
      "outputs": []
    },
    {
      "cell_type": "code",
      "metadata": {
        "id": "dhwQsEwByhag",
        "colab_type": "code",
        "colab": {}
      },
      "source": [
        "start=(0,0)\n",
        "finish=(0,4)"
      ],
      "execution_count": 18,
      "outputs": []
    },
    {
      "cell_type": "code",
      "metadata": {
        "id": "E2V36lVI950Y",
        "colab_type": "code",
        "colab": {}
      },
      "source": [
        "row = start[0]\n",
        "col = start[1]"
      ],
      "execution_count": 19,
      "outputs": []
    },
    {
      "cell_type": "code",
      "metadata": {
        "id": "FXKio9NwwBB3",
        "colab_type": "code",
        "colab": {
          "base_uri": "https://localhost:8080/",
          "height": 35
        },
        "outputId": "457279f5-1fc3-4b15-8e4f-5afe5e9cd5bd"
      },
      "source": [
        "aa=start"
      ],
      "execution_count": 13,
      "outputs": [
        {
          "output_type": "execute_result",
          "data": {
            "text/plain": [
              "0"
            ]
          },
          "metadata": {
            "tags": []
          },
          "execution_count": 13
        }
      ]
    },
    {
      "cell_type": "code",
      "metadata": {
        "id": "MEx7VhnDweEI",
        "colab_type": "code",
        "colab": {
          "base_uri": "https://localhost:8080/",
          "height": 35
        },
        "outputId": "b164d728-2c8d-462d-f5c4-ce4f7f9b428f"
      },
      "source": [
        "count = 0\n",
        "route = []\n",
        "while (row != finish[0] or col != finish[1]):\n",
        "  input[row][col] = 0\n",
        "  if input[row][col+1] == 1:\n",
        "    count += 1\n",
        "    route.append([row,col])\n",
        "    row = row\n",
        "    col = col + 1\n",
        "  elif input[row+1][col] == 1:\n",
        "    count += 1\n",
        "    route.append([row,col])\n",
        "    row = row + 1\n",
        "    col = col\n",
        "  elif input[row][col-1] == 1:\n",
        "    count += 1\n",
        "    route.append([row,col])\n",
        "    row = row\n",
        "    col = col - 1\n",
        "  elif input[row-1][col] == 1:\n",
        "    count += 1\n",
        "    route.append([row,col])\n",
        "    row = row - 1\n",
        "    col = col\n",
        "  else:\n",
        "    row = route.top()[0]\n",
        "    col = route.top()[1]\n",
        "    count -= 1\n",
        "    route.pop()\n",
        "print(route,' ',count)"
      ],
      "execution_count": 22,
      "outputs": [
        {
          "output_type": "stream",
          "text": [
            "[[0, 0], [1, 0], [2, 0], [2, 1], [2, 2], [2, 3], [1, 3], [0, 3]]   8\n"
          ],
          "name": "stdout"
        }
      ]
    },
    {
      "cell_type": "code",
      "metadata": {
        "id": "z_qWSO1owf7X",
        "colab_type": "code",
        "colab": {}
      },
      "source": [
        "aa=[1,2,3,4,5,6]"
      ],
      "execution_count": 14,
      "outputs": []
    }
  ]
}
