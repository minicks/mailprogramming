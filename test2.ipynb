{
  "nbformat": 4,
  "nbformat_minor": 0,
  "metadata": {
    "colab": {
      "name": "Untitled26.ipynb",
      "provenance": [],
      "authorship_tag": "ABX9TyMh0LALb3926rLEI6Nb9nvo",
      "include_colab_link": true
    },
    "kernelspec": {
      "name": "python3",
      "display_name": "Python 3"
    }
  },
  "cells": [
    {
      "cell_type": "markdown",
      "metadata": {
        "id": "view-in-github",
        "colab_type": "text"
      },
      "source": [
        "<a href=\"https://colab.research.google.com/github/minicks/mailprogramming/blob/master/test2.ipynb\" target=\"_parent\"><img src=\"https://colab.research.google.com/assets/colab-badge.svg\" alt=\"Open In Colab\"/></a>"
      ]
    },
    {
      "cell_type": "markdown",
      "metadata": {
        "id": "p5MX-PJ9cFvu",
        "colab_type": "text"
      },
      "source": [
        "코딩 테스트 # 2"
      ]
    },
    {
      "cell_type": "markdown",
      "metadata": {
        "id": "hf2WXqPQcUmG",
        "colab_type": "text"
      },
      "source": [
        ""
      ]
    },
    {
      "cell_type": "code",
      "metadata": {
        "id": "CQj_i332cCHl",
        "colab_type": "code",
        "colab": {}
      },
      "source": [
        "def sol(N):\n",
        "  i=0;j=1;sum=0\n",
        "  while j < N:\n",
        "    c=i+j\n",
        "    i=j\n",
        "    j=c\n",
        "    if j % 2 ==0:\n",
        "      sum = sum+j\n",
        "  return sum"
      ],
      "execution_count": 0,
      "outputs": []
    },
    {
      "cell_type": "code",
      "metadata": {
        "id": "8jt-ydTPh_Cp",
        "colab_type": "code",
        "colab": {
          "base_uri": "https://localhost:8080/",
          "height": 35
        },
        "outputId": "e9012774-8032-44f0-c1ac-a46ddaa39d7c"
      },
      "source": [
        "sol(150)"
      ],
      "execution_count": 4,
      "outputs": [
        {
          "output_type": "execute_result",
          "data": {
            "text/plain": [
              "188"
            ]
          },
          "metadata": {
            "tags": []
          },
          "execution_count": 4
        }
      ]
    }
  ]
}