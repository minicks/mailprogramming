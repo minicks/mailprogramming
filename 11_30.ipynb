{
  "nbformat": 4,
  "nbformat_minor": 0,
  "metadata": {
    "colab": {
      "name": "Untitled35.ipynb",
      "provenance": [],
      "authorship_tag": "ABX9TyObAZzR7tIpxLyXJqyCtedA",
      "include_colab_link": true
    },
    "kernelspec": {
      "name": "python3",
      "display_name": "Python 3"
    }
  },
  "cells": [
    {
      "cell_type": "markdown",
      "metadata": {
        "id": "view-in-github",
        "colab_type": "text"
      },
      "source": [
        "<a href=\"https://colab.research.google.com/github/minicks/mailprogramming/blob/master/11_30.ipynb\" target=\"_parent\"><img src=\"https://colab.research.google.com/assets/colab-badge.svg\" alt=\"Open In Colab\"/></a>"
      ]
    },
    {
      "cell_type": "code",
      "metadata": {
        "id": "65wxI-oHM4nl"
      },
      "source": [
        "tree = \"1 / \\ 2 3 / \\ / \\ 4 5 6 7 / \\ 8 9\"\n",
        "treelist = tree.split('/ \\\\')"
      ],
      "execution_count": 23,
      "outputs": []
    },
    {
      "cell_type": "code",
      "metadata": {
        "id": "YtXnZxVPNduC"
      },
      "source": [
        "treelist = tree.split('/ \\\\')"
      ],
      "execution_count": 13,
      "outputs": []
    },
    {
      "cell_type": "code",
      "metadata": {
        "colab": {
          "base_uri": "https://localhost:8080/"
        },
        "id": "JYFh8dw1OyAQ",
        "outputId": "cbeafae8-79fd-4672-d6db-0393009fd523"
      },
      "source": [
        "count = 0\n",
        "relist = ''\n",
        "for i in treelist:\n",
        "  if i == \" \":\n",
        "    continue\n",
        "  count += 1\n",
        "  if count % 2 == 1:\n",
        "    for j in i:\n",
        "      if j == \" \":\n",
        "        continue\n",
        "      else:\n",
        "        relist = relist + j\n",
        "        relist = relist + ','\n",
        "\n",
        "  else:\n",
        "    for j in i[-1::-1]:\n",
        "      if j == \" \":\n",
        "        continue\n",
        "      else:\n",
        "        relist = relist + j\n",
        "        relist = relist + ','\n",
        "\n",
        "relist = relist[:-1]\n",
        "print(relist)"
      ],
      "execution_count": 24,
      "outputs": [
        {
          "output_type": "stream",
          "text": [
            "1,3,2,4,5,6,7,9,8\n"
          ],
          "name": "stdout"
        }
      ]
    }
  ]
}