{
  "nbformat": 4,
  "nbformat_minor": 0,
  "metadata": {
    "colab": {
      "name": "test4.ipynb",
      "provenance": [],
      "authorship_tag": "ABX9TyPisoBsvUCby1B124PA/DkQ",
      "include_colab_link": true
    },
    "kernelspec": {
      "name": "python3",
      "display_name": "Python 3"
    }
  },
  "cells": [
    {
      "cell_type": "markdown",
      "metadata": {
        "id": "view-in-github",
        "colab_type": "text"
      },
      "source": [
        "<a href=\"https://colab.research.google.com/github/minicks/mailprogramming/blob/master/test4.ipynb\" target=\"_parent\"><img src=\"https://colab.research.google.com/assets/colab-badge.svg\" alt=\"Open In Colab\"/></a>"
      ]
    },
    {
      "cell_type": "markdown",
      "metadata": {
        "id": "B7082ieh2Qn-",
        "colab_type": "text"
      },
      "source": [
        "# 코딩테스트 4"
      ]
    },
    {
      "cell_type": "code",
      "metadata": {
        "id": "npFPcwnytLnv",
        "colab_type": "code",
        "colab": {}
      },
      "source": [
        "def sol(input):\n",
        "  import math\n",
        "  if input == 0:\n",
        "    print(\"True\")\n",
        "    return\n",
        "  dig = int(math.log10(input)) + 1\n",
        "  print(dig)\n",
        "  if dig == 1 or dig == 0:\n",
        "    print(\"True\")\n",
        "    return\n",
        "  if input < 0:\n",
        "    print(\"False\")\n",
        "    return\n",
        "  if (input//(10**(dig-1))) == input%10:\n",
        "    input = input - (input//(10**(dig-1)))*10**(dig-1)\n",
        "    input = input//10\n",
        "    sol(input)\n",
        "  else:\n",
        "    print(\"False\")"
      ],
      "execution_count": 0,
      "outputs": []
    }
  ]
}